{
 "cells": [
  {
   "cell_type": "markdown",
   "metadata": {},
   "source": [
    "# arbitrary clean up scripts\n",
    "\n",
    "## fix xml:ids\n",
    "\n",
    "* 123_something is not a valid xml:id value because xml:id values MUST NOT start with digits"
   ]
  },
  {
   "cell_type": "code",
   "execution_count": null,
   "metadata": {},
   "outputs": [],
   "source": [
    "import glob\n",
    "import re\n",
    "\n",
    "from lxml import etree as ET\n",
    "\n",
    "from teipy import TeiReader"
   ]
  },
  {
   "cell_type": "code",
   "execution_count": null,
   "metadata": {},
   "outputs": [],
   "source": [
    "files = glob.glob(\"../dhd_2020/TEI/*.xml\")\n",
    "len(files)"
   ]
  },
  {
   "cell_type": "code",
   "execution_count": null,
   "metadata": {},
   "outputs": [],
   "source": [
    "for x in files:\n",
    "    filename = x.split('/')[-1][:-4]\n",
    "    with open (x, \"r\") as myfile:\n",
    "        string = myfile.read()\n",
    "    pattern = re.compile('xml:id=\"\\d\\d\\d.*?\"')\n",
    "    try:\n",
    "        match = re.findall(pattern, string)[0]\n",
    "    except:\n",
    "        match = False\n",
    "    if match:\n",
    "        new_id = f'xml:id=\"dhd2020_{filename}\"'\n",
    "        string = string.replace(match, new_id)\n",
    "        with open (x, \"w\") as myfile:\n",
    "            myfile.write(string)\n",
    "            "
   ]
  },
  {
   "cell_type": "code",
   "execution_count": null,
   "metadata": {},
   "outputs": [],
   "source": [
    "files = glob.glob(\"../*/TEI/*.xml\")"
   ]
  },
  {
   "cell_type": "markdown",
   "metadata": {},
   "source": [
    "## make sure all files have a useful xml:id"
   ]
  },
  {
   "cell_type": "code",
   "execution_count": null,
   "metadata": {},
   "outputs": [],
   "source": [
    "for x in files:\n",
    "    doc = TeiReader(x)\n",
    "    root_el = doc.tree.getroot()\n",
    "    root_el.attrib.pop(\"{http://www.w3.org/XML/1998/namespace}id\", None)\n",
    "    year = x.split('/')[-3]\n",
    "    root_el.attrib.pop(\"{http://www.w3.org/XML/1998/namespace}id\", None)\n",
    "    root_el.attrib[\"{http://www.w3.org/XML/1998/namespace}id\"] = f\"{year}_{x.split('/')[-1]}\"\n",
    "    doc.tree_to_file(file=x)"
   ]
  },
  {
   "cell_type": "code",
   "execution_count": null,
   "metadata": {},
   "outputs": [],
   "source": []
  }
 ],
 "metadata": {
  "kernelspec": {
   "display_name": "Python 3",
   "language": "python",
   "name": "python3"
  },
  "language_info": {
   "codemirror_mode": {
    "name": "ipython",
    "version": 3
   },
   "file_extension": ".py",
   "mimetype": "text/x-python",
   "name": "python",
   "nbconvert_exporter": "python",
   "pygments_lexer": "ipython3",
   "version": "3.6.9"
  }
 },
 "nbformat": 4,
 "nbformat_minor": 4
}
