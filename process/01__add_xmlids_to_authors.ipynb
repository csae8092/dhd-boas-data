{
 "cells": [
  {
   "cell_type": "code",
   "execution_count": null,
   "metadata": {},
   "outputs": [],
   "source": [
    "import glob\n",
    "import re\n",
    "\n",
    "from lxml import etree as ET\n",
    "\n",
    "from teipy import TeiReader"
   ]
  },
  {
   "cell_type": "markdown",
   "metadata": {},
   "source": [
    "## add @ref to tei:author\n",
    "* go through all TEIs\n",
    "* in each author node, find the email node, slugify the value\n",
    "* use this for the tei:author's @ref"
   ]
  },
  {
   "cell_type": "code",
   "execution_count": null,
   "metadata": {},
   "outputs": [],
   "source": [
    "files = glob.glob(\"../dhd_*/TEI/*.xml\")\n",
    "# len(files)"
   ]
  },
  {
   "cell_type": "code",
   "execution_count": null,
   "metadata": {},
   "outputs": [],
   "source": [
    "for x in files:\n",
    "    doc = TeiReader(x)\n",
    "    [x for x in doc.add_refs()]\n",
    "    doc.tree_to_file(file=x)"
   ]
  },
  {
   "cell_type": "markdown",
   "metadata": {},
   "source": [
    "## add the year of the conference somewhere\n",
    "\n",
    "* the year/conference of the abstract is not encoded in a homogenous manner - sigh - so this needs to be added as well"
   ]
  },
  {
   "cell_type": "code",
   "execution_count": null,
   "metadata": {},
   "outputs": [],
   "source": [
    "for x in files:\n",
    "    doc = TeiReader(x)\n",
    "    # delete any already existing title @type=conf_year to avoid adding a new title element each time this script is run\n",
    "    try:\n",
    "        conf_el_remove = doc.tree.xpath(\".//tei:title[@type='conf_year']\", namespaces=doc.ns_tei)[0]\n",
    "#         print('delete already existing conf_el element')\n",
    "    except IndexError:\n",
    "#         print('no conf_el created yet')\n",
    "        conf_el_remove = False\n",
    "    if conf_el_remove:\n",
    "        conf_el_remove.getparent().remove(conf_el_remove) \n",
    "    xpath_expr = \".//tei:titleStmt//tei:title\"\n",
    "    last_title = doc.tree.xpath(xpath_expr, namespaces=doc.ns_tei)[-1]\n",
    "    conf_year = re.findall('dhd_\\d\\d\\d\\d', x)[0][4:]\n",
    "    conf_el = ET.Element(\"{http://www.tei-c.org/ns/1.0}title\")\n",
    "    conf_el.attrib['type'] = 'conf_year'\n",
    "    conf_el.text = f\"{conf_year}\"\n",
    "    last_title.addnext(conf_el)\n",
    "    title_stmt = doc.tree.xpath(\".//tei:titleStmt\", namespaces=doc.ns_tei)[0]\n",
    "    doc.tree_to_file(file=x)"
   ]
  },
  {
   "cell_type": "code",
   "execution_count": null,
   "metadata": {},
   "outputs": [],
   "source": []
  }
 ],
 "metadata": {
  "kernelspec": {
   "display_name": "Python 3",
   "language": "python",
   "name": "python3"
  },
  "language_info": {
   "codemirror_mode": {
    "name": "ipython",
    "version": 3
   },
   "file_extension": ".py",
   "mimetype": "text/x-python",
   "name": "python",
   "nbconvert_exporter": "python",
   "pygments_lexer": "ipython3",
   "version": "3.7.5"
  }
 },
 "nbformat": 4,
 "nbformat_minor": 2
}
