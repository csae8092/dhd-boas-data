{
 "cells": [
  {
   "cell_type": "markdown",
   "metadata": {},
   "source": [
    "# deduplicate ~~bibliographic~~ institution references\n",
    "\n",
    "The DH-Community is not able to follow citation quides, therefore bibliographic references are quite messy. This script\n",
    "\n",
    "* extracts all `.//tei:titleStmt//tei:affiliation` elements and writes them to a `.csv` file in the current folder\n",
    "* this file is feed into `csvdedupe` command line interface which returns `output.csv` with deduplicated files"
   ]
  },
  {
   "cell_type": "code",
   "execution_count": null,
   "metadata": {},
   "outputs": [],
   "source": [
    "import glob\n",
    "import os\n",
    "import itertools\n",
    "import pandas as pd\n",
    "\n",
    "from lxml import etree as ET\n",
    "from slugify import slugify\n",
    "\n",
    "from config import TEI_DIR, PATTERNS, YEARS\n",
    "from teipy import TeiReader\n",
    "from partials import TEI_NSMAP, tei_gen_header"
   ]
  },
  {
   "cell_type": "code",
   "execution_count": null,
   "metadata": {},
   "outputs": [],
   "source": [
    "try:\n",
    "    os.makedirs('../indices')\n",
    "except OSError as e:\n",
    "    print('../indices alredy exists')"
   ]
  },
  {
   "cell_type": "code",
   "execution_count": null,
   "metadata": {},
   "outputs": [],
   "source": [
    "files = glob.glob(\"../dhd_*/TEI/*.xml\")\n",
    "len(files)"
   ]
  },
  {
   "cell_type": "markdown",
   "metadata": {},
   "source": [
    "## note\n",
    "\n",
    "Extraction and disambiguation of institutions is tricky because:\n",
    "* usage of different names for the same Institution\n",
    "* person -> affiliation is a 1:n relation\n",
    "* but there is no dedicated separator to indicate that one affiliation tag comprises several affiliations\n",
    "  * `;` is treaded as separator but not\n",
    "  * `|` or `\\` although sometimes \n",
    "    * used as separator \"forschungsverbund marbach weimar wolfenbüttel / herzog august bibliothek wolfenbüttel\"\n",
    "    * they are not only used as separators e.g. \"Akademie der Wissenschaften und der Literatur | Mainz\"  but also as part of the name, or to indicate a part of an institution like in \"Georg-August-Universität Göttingen, Deutschland - GCDH/Archäologisches Institut\"\n",
    "\n",
    "therefore no automatic splitting is done!\n",
    "disambiquiation is done in a very generous manner\n",
    "\n",
    "this means that `eberhard karls universität tübingen, deutschland` and `eberhard karls universität tübingen, deutschland; humboldt universität zu berlin` are treated as one institution"
   ]
  },
  {
   "cell_type": "code",
   "execution_count": null,
   "metadata": {},
   "outputs": [],
   "source": [
    "def yield_items(files):\n",
    "    for x in files:\n",
    "        doc = TeiReader(x)\n",
    "        doc_id = x\n",
    "        titel = doc.extract_md()['title']\n",
    "        counter = 0\n",
    "        for rs in doc.tree.xpath('.//tei:titleStmt//tei:affiliation', namespaces=doc.ns_tei):\n",
    "            author_node = rs.getparent()\n",
    "            rs_text = \" \".join(\"\".join(rs.itertext()).split())\n",
    "            for y in rs_text.split(';'):\n",
    "                if len(y.strip()) > 5:\n",
    "                    item = {\n",
    "                        \"title\": titel,\n",
    "                        \"org\": y.strip(),\n",
    "                        \"id\": f\"{doc_id}__{counter}\"\n",
    "                    }\n",
    "                    counter += 1\n",
    "                    yield item"
   ]
  },
  {
   "cell_type": "code",
   "execution_count": null,
   "metadata": {},
   "outputs": [],
   "source": [
    "df = pd.DataFrame(yield_items(files))"
   ]
  },
  {
   "cell_type": "code",
   "execution_count": null,
   "metadata": {},
   "outputs": [],
   "source": [
    "df.to_csv('orgs.csv')"
   ]
  },
  {
   "cell_type": "markdown",
   "metadata": {},
   "source": [
    "## run csvdedupe cml-tool\n",
    "\n",
    "```shell\n",
    "csvdedupe orgs.csv --field_names org --output_file org_output.csv --skip_training true\n",
    "```\n",
    "\n",
    "* use the result (saved as output.csv) for any further processing\n",
    "* read output.csv into a `pandas.Dataframe`\n",
    "* group rows (i.e. bibl entries) by `Cluster ID` (created by dedupe)"
   ]
  },
  {
   "cell_type": "code",
   "execution_count": null,
   "metadata": {},
   "outputs": [],
   "source": [
    "deduped = pd.read_csv('org_output.csv')"
   ]
  },
  {
   "cell_type": "markdown",
   "metadata": {},
   "source": [
    "## extra work to circumvent a strange behaviour in dedupe\n",
    "\n",
    "* as reported in https://github.com/dedupeio/csvdedupe/issues/88 dedupe does not group exact string matches into the same clusster, so some extra work needs to be done"
   ]
  },
  {
   "cell_type": "code",
   "execution_count": null,
   "metadata": {},
   "outputs": [],
   "source": [
    "org_lookup = {}\n",
    "for gr in deduped.groupby('org'):\n",
    "    org_name = gr[0]\n",
    "    org_ref = f\"#org__{gr[1]['Cluster ID'].iloc[0]}\"\n",
    "    org_lookup[org_name] = org_ref"
   ]
  },
  {
   "cell_type": "markdown",
   "metadata": {},
   "source": [
    "## write org_id as ref attributes into affiliation"
   ]
  },
  {
   "cell_type": "code",
   "execution_count": null,
   "metadata": {},
   "outputs": [],
   "source": [
    "for x in files:\n",
    "    doc = TeiReader(x)\n",
    "    for rs in doc.tree.xpath('.//tei:titleStmt//tei:affiliation', namespaces=doc.ns_tei):\n",
    "        orgs = []\n",
    "        rs_text = \" \".join(\"\".join(rs.itertext()).split())\n",
    "        for y in rs_text.split(';'):\n",
    "            y = y.strip()\n",
    "            if len(y) > 5:\n",
    "                \n",
    "                org_id = org_lookup[y]\n",
    "                orgs.append(org_id)\n",
    "        org_refs = \" \".join(orgs)\n",
    "        rs.attrib.pop(\"ref\", None)\n",
    "        rs.attrib['ref'] = org_refs\n",
    "    doc.tree_to_file(x)"
   ]
  },
  {
   "cell_type": "markdown",
   "metadata": {},
   "source": [
    "# create a listOrg"
   ]
  },
  {
   "cell_type": "code",
   "execution_count": null,
   "metadata": {},
   "outputs": [],
   "source": [
    "from collections import defaultdict"
   ]
  },
  {
   "cell_type": "code",
   "execution_count": null,
   "metadata": {},
   "outputs": [],
   "source": [
    "orgs = defaultdict(list)\n",
    "for key, value in org_lookup.items():\n",
    "    org_xml_id = value[1:]\n",
    "    orgs[org_xml_id].append(key)"
   ]
  },
  {
   "cell_type": "code",
   "execution_count": null,
   "metadata": {},
   "outputs": [],
   "source": [
    "header = ET.fromstring(tei_gen_header.format('Organisationsregsiter', f\"DHd Book of Abstracts {', '.join(YEARS)}\"))    \n",
    "body = header.xpath('.//tei:body', namespaces=TEI_NSMAP)[0]\n",
    "listorg = ET.Element(\"listOrg\")\n",
    "for key, value in orgs.items():\n",
    "    sorted_names = sorted(value, key=len, reverse=True)\n",
    "    title_name = sorted_names[0]\n",
    "    if len(title_name.split(',')) > 1:\n",
    "        country = title_name.split(',')[-1]\n",
    "    else:\n",
    "        country = False\n",
    "    try:\n",
    "        alt_names = sorted_names[1:]\n",
    "    except:\n",
    "        alt_names = False\n",
    "    org = ET.Element(\"{http://www.tei-c.org/ns/1.0}org\")\n",
    "    org.attrib['{http://www.w3.org/XML/1998/namespace}id'] = key\n",
    "    orgName = ET.Element(\"orgName\")\n",
    "    orgName.text = title_name\n",
    "    org.append(orgName)\n",
    "    if alt_names:\n",
    "        for x in alt_names:\n",
    "            alt_name = ET.Element(\"orgName\")\n",
    "            alt_name.text = x\n",
    "            alt_name.attrib['type'] = 'alt'\n",
    "            org.append(alt_name)\n",
    "    if country:\n",
    "        c_el = ET.Element(\"{http://www.tei-c.org/ns/1.0}country\")\n",
    "        c_el.text = country.strip()\n",
    "        org.append(c_el)\n",
    "    listorg.append(org)\n",
    "body.append(listorg)\n"
   ]
  },
  {
   "cell_type": "code",
   "execution_count": null,
   "metadata": {},
   "outputs": [],
   "source": [
    "file = os.path.join('../indices', 'listorg.xml')"
   ]
  },
  {
   "cell_type": "code",
   "execution_count": null,
   "metadata": {},
   "outputs": [],
   "source": [
    "with open(file, 'wb') as f:\n",
    "    f.write(ET.tostring(header, pretty_print=True, encoding='utf-8'))"
   ]
  },
  {
   "cell_type": "markdown",
   "metadata": {},
   "source": [
    "# create listperson.xml"
   ]
  },
  {
   "cell_type": "code",
   "execution_count": null,
   "metadata": {},
   "outputs": [],
   "source": [
    "all_docs = []\n",
    "for x in files:\n",
    "    doc = TeiReader(x)\n",
    "    all_docs.append(doc.extract_md())"
   ]
  },
  {
   "cell_type": "code",
   "execution_count": null,
   "metadata": {},
   "outputs": [],
   "source": [
    "df = pd.DataFrame(all_docs)"
   ]
  },
  {
   "cell_type": "code",
   "execution_count": null,
   "metadata": {},
   "outputs": [],
   "source": [
    "authors = pd.DataFrame(list(itertools.chain.from_iterable(list(df['authors'].values)))).sort_values(by='surname')\n",
    "authors['email_lower'] = authors['email'].str.lower()\n",
    "authors = authors.drop_duplicates(subset=['email_lower'])"
   ]
  },
  {
   "cell_type": "code",
   "execution_count": null,
   "metadata": {},
   "outputs": [],
   "source": [
    "# authors"
   ]
  },
  {
   "cell_type": "code",
   "execution_count": null,
   "metadata": {},
   "outputs": [],
   "source": [
    "header = ET.fromstring(tei_gen_header.format('Personenregister', f\"DHd Book of Abstracts {', '.join(YEARS)}\"))    "
   ]
  },
  {
   "cell_type": "code",
   "execution_count": null,
   "metadata": {},
   "outputs": [],
   "source": [
    "body = header.xpath('.//tei:body', namespaces=TEI_NSMAP)[0]\n",
    "listperson = ET.Element(\"listPerson\")\n",
    "body.append(listperson)\n",
    "for gr in authors.groupby('email'):\n",
    "    df = gr[1]\n",
    "    xml_id = \"person__{}\".format(slugify(gr[1].iloc[0]['email'].lower()))\n",
    "    row = gr[1].iloc[0]\n",
    "    person = ET.Element(\"{http://www.tei-c.org/ns/1.0}person\")\n",
    "    person.attrib['{http://www.w3.org/XML/1998/namespace}id'] = xml_id\n",
    "    persName = ET.Element(\"persName\")\n",
    "    surname = ET.Element(\"surname\")\n",
    "    surname.text = row['surname']\n",
    "    persName.append(surname)\n",
    "    forename = ET.Element(\"forename\")\n",
    "    forename.text = row['forename']\n",
    "    persName.append(forename)\n",
    "    person.append(persName)\n",
    "    for i, row in df.iterrows():\n",
    "        morg_name = row['affiliation']\n",
    "        if morg_name:\n",
    "            for y in morg_name.split(';'):\n",
    "                org_name = y.strip()\n",
    "                org_id = org_lookup.get(org_name, '#org__99999')\n",
    "                print(org_id)\n",
    "                affil = ET.Element(\"affiliation\")\n",
    "                affil.text = org_name \n",
    "                affil.attrib['ref'] = org_id\n",
    "                person.append(affil)\n",
    "    listperson.append(person)"
   ]
  },
  {
   "cell_type": "code",
   "execution_count": null,
   "metadata": {},
   "outputs": [],
   "source": [
    "file = \"../indices/listperson.xml\"\n",
    "with open(file, 'wb') as f:\n",
    "    f.write(ET.tostring(header, pretty_print=True, encoding='UTF-8'))"
   ]
  },
  {
   "cell_type": "code",
   "execution_count": null,
   "metadata": {},
   "outputs": [],
   "source": []
  },
  {
   "cell_type": "code",
   "execution_count": null,
   "metadata": {},
   "outputs": [],
   "source": []
  }
 ],
 "metadata": {
  "kernelspec": {
   "display_name": "Python 3",
   "language": "python",
   "name": "python3"
  },
  "language_info": {
   "codemirror_mode": {
    "name": "ipython",
    "version": 3
   },
   "file_extension": ".py",
   "mimetype": "text/x-python",
   "name": "python",
   "nbconvert_exporter": "python",
   "pygments_lexer": "ipython3",
   "version": "3.6.9"
  }
 },
 "nbformat": 4,
 "nbformat_minor": 2
}
