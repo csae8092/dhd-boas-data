{
 "cells": [
  {
   "cell_type": "code",
   "execution_count": null,
   "metadata": {},
   "outputs": [],
   "source": [
    "import glob\n",
    "import itertools\n",
    "import json\n",
    "\n",
    "import pandas as pd\n",
    "\n",
    "from lxml import etree as ET\n",
    "\n",
    "import textacy.tm\n",
    "import textacy.vsm\n",
    "from textacy import Corpus\n",
    "\n",
    "from config import TEI_DIR, PATTERNS\n",
    "from teipy import TeiReader"
   ]
  },
  {
   "cell_type": "code",
   "execution_count": null,
   "metadata": {},
   "outputs": [],
   "source": [
    "files = glob.glob(\"../dhd_*/TEI/*.xml\")"
   ]
  },
  {
   "cell_type": "code",
   "execution_count": null,
   "metadata": {},
   "outputs": [],
   "source": [
    "all_docs = []\n",
    "for x in files:\n",
    "    doc = TeiReader(x)\n",
    "    all_docs.append(doc.extract_md())"
   ]
  },
  {
   "cell_type": "code",
   "execution_count": null,
   "metadata": {},
   "outputs": [],
   "source": [
    "df = pd.DataFrame(all_docs)"
   ]
  },
  {
   "cell_type": "code",
   "execution_count": null,
   "metadata": {},
   "outputs": [],
   "source": [
    "df"
   ]
  },
  {
   "cell_type": "code",
   "execution_count": null,
   "metadata": {},
   "outputs": [],
   "source": [
    "corpus = Corpus(\n",
    "    \"de_core_news_sm\",\n",
    "    data=[\n",
    "        (\n",
    "            row['fulltext'],\n",
    "            {\n",
    "                \"id\":\n",
    "                row['xml_id'],\n",
    "                \"title\":\n",
    "                row['title'],\n",
    "                \"year\":\n",
    "                row['title'][-4:]\n",
    "            }\n",
    "        ) for i, row in df.iterrows()\n",
    "    ]\n",
    ")"
   ]
  },
  {
   "cell_type": "code",
   "execution_count": null,
   "metadata": {},
   "outputs": [],
   "source": [
    "corpus.save('corpus.corpus')"
   ]
  },
  {
   "cell_type": "markdown",
   "metadata": {},
   "source": [
    "# start here for analyzing the corpus"
   ]
  },
  {
   "cell_type": "code",
   "execution_count": null,
   "metadata": {},
   "outputs": [],
   "source": [
    "corpus = Corpus.load(\"de_core_news_sm\", 'corpus.corpus')"
   ]
  },
  {
   "cell_type": "code",
   "execution_count": null,
   "metadata": {},
   "outputs": [],
   "source": [
    "vectorizer = textacy.vsm.Vectorizer(\n",
    "    tf_type=\"linear\", apply_idf=True, idf_type=\"smooth\", norm=\"l2\",\n",
    "    min_df=3, max_df=0.95, max_n_terms=100000)"
   ]
  },
  {
   "cell_type": "code",
   "execution_count": null,
   "metadata": {},
   "outputs": [],
   "source": [
    "doc_term_matrix = vectorizer.fit_transform(\n",
    "    (doc._.to_terms_list(ngrams=1, entities=True, as_strings=True) for doc in corpus)\n",
    ")"
   ]
  },
  {
   "cell_type": "code",
   "execution_count": null,
   "metadata": {},
   "outputs": [],
   "source": [
    "model = textacy.tm.TopicModel(\"nmf\", n_topics=12)"
   ]
  },
  {
   "cell_type": "code",
   "execution_count": null,
   "metadata": {},
   "outputs": [],
   "source": [
    "model.fit(doc_term_matrix)"
   ]
  },
  {
   "cell_type": "code",
   "execution_count": null,
   "metadata": {},
   "outputs": [],
   "source": [
    "doc_topic_matrix = model.get_doc_topic_matrix(doc_term_matrix)"
   ]
  },
  {
   "cell_type": "code",
   "execution_count": null,
   "metadata": {},
   "outputs": [],
   "source": [
    "df = pd.DataFrame(doc_topic_matrix, index=[x._.meta[\"id\"] for x in corpus])"
   ]
  },
  {
   "cell_type": "code",
   "execution_count": null,
   "metadata": {},
   "outputs": [],
   "source": [
    "list(df.index)"
   ]
  },
  {
   "cell_type": "code",
   "execution_count": null,
   "metadata": {},
   "outputs": [],
   "source": [
    "items = []\n",
    "row_count = 0\n",
    "for i, row in df.iterrows():\n",
    "    cell_count = 0\n",
    "    for c in row:\n",
    "        cell_count += 1\n",
    "        record = [row_count, cell_count, c]\n",
    "        items.append(record)\n",
    "    row_count += 1"
   ]
  },
  {
   "cell_type": "code",
   "execution_count": null,
   "metadata": {},
   "outputs": [],
   "source": [
    "data = {\n",
    "    \"items\": items,\n",
    "    \"docs\": list(df.index),\n",
    "    \"topics\": [f\"topic {x}\" for x in list(range(12))],\n",
    "}"
   ]
  },
  {
   "cell_type": "code",
   "execution_count": null,
   "metadata": {},
   "outputs": [],
   "source": [
    "topic_terms = []\n",
    "for topic_idx, top_terms in model.top_topic_terms(vectorizer.id_to_term, topics=list(range(12))):\n",
    "    topic_terms.append({f\"topic {topic_idx}\": top_terms})"
   ]
  },
  {
   "cell_type": "code",
   "execution_count": null,
   "metadata": {},
   "outputs": [],
   "source": [
    "data[\"topic_terms\"] = topic_terms"
   ]
  },
  {
   "cell_type": "code",
   "execution_count": null,
   "metadata": {},
   "outputs": [],
   "source": [
    "with open('doc_topic_matrix.json', 'w') as outfile:\n",
    "    json.dump(data, outfile)"
   ]
  },
  {
   "cell_type": "code",
   "execution_count": null,
   "metadata": {},
   "outputs": [],
   "source": [
    "for topic_idx, top_docs in model.top_topic_docs(doc_topic_matrix, topics=list(range(12))):\n",
    "    print(topic_idx)\n",
    "    for j in top_docs:\n",
    "        print(corpus[j]._.meta[\"title\"])"
   ]
  },
  {
   "cell_type": "code",
   "execution_count": null,
   "metadata": {},
   "outputs": [],
   "source": []
  }
 ],
 "metadata": {
  "kernelspec": {
   "display_name": "Python 3",
   "language": "python",
   "name": "python3"
  },
  "language_info": {
   "codemirror_mode": {
    "name": "ipython",
    "version": 3
   },
   "file_extension": ".py",
   "mimetype": "text/x-python",
   "name": "python",
   "nbconvert_exporter": "python",
   "pygments_lexer": "ipython3",
   "version": "3.6.9"
  }
 },
 "nbformat": 4,
 "nbformat_minor": 2
}
