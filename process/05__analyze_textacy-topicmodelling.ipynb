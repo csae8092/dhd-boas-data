{
 "cells": [
  {
   "cell_type": "markdown",
   "metadata": {},
   "source": [
    "# Topic modelling\n",
    "* load an existing corpus"
   ]
  },
  {
   "cell_type": "code",
   "execution_count": null,
   "metadata": {},
   "outputs": [],
   "source": [
    "import os\n",
    "import json\n",
    "\n",
    "import pandas as pd\n",
    "\n",
    "from lxml import etree as ET\n",
    "\n",
    "import textacy.tm\n",
    "import textacy.vsm\n",
    "from textacy import Corpus\n",
    "\n",
    "from config import TEI_DIR, PATTERNS\n",
    "from teipy import TeiReader"
   ]
  },
  {
   "cell_type": "code",
   "execution_count": null,
   "metadata": {},
   "outputs": [],
   "source": [
    "corpus = Corpus.load(\"de_core_news_sm\", 'corpus.corpus')"
   ]
  },
  {
   "cell_type": "code",
   "execution_count": null,
   "metadata": {},
   "outputs": [],
   "source": [
    "vectorizer = textacy.vsm.Vectorizer(\n",
    "    tf_type=\"linear\", apply_idf=True, idf_type=\"smooth\", norm=\"l2\",\n",
    "    min_df=3, max_df=0.95, max_n_terms=100000)"
   ]
  },
  {
   "cell_type": "code",
   "execution_count": null,
   "metadata": {},
   "outputs": [],
   "source": [
    "doc_term_matrix = vectorizer.fit_transform(\n",
    "    (doc._.to_terms_list(ngrams=1, entities=True, as_strings=True) for doc in corpus)\n",
    ")"
   ]
  },
  {
   "cell_type": "code",
   "execution_count": null,
   "metadata": {},
   "outputs": [],
   "source": [
    "model = textacy.tm.TopicModel(\"nmf\", n_topics=12)"
   ]
  },
  {
   "cell_type": "code",
   "execution_count": null,
   "metadata": {},
   "outputs": [],
   "source": [
    "model.fit(doc_term_matrix)"
   ]
  },
  {
   "cell_type": "code",
   "execution_count": null,
   "metadata": {},
   "outputs": [],
   "source": [
    "doc_topic_matrix = model.get_doc_topic_matrix(doc_term_matrix)"
   ]
  },
  {
   "cell_type": "markdown",
   "metadata": {},
   "source": [
    "## write document-topic-matrix into a dataframe\n",
    "* rows: documents\n",
    "* columns: topics"
   ]
  },
  {
   "cell_type": "code",
   "execution_count": null,
   "metadata": {},
   "outputs": [],
   "source": [
    "df = pd.DataFrame(doc_topic_matrix, index=[x._.meta[\"id\"] for x in corpus]).fillna(value=0)"
   ]
  },
  {
   "cell_type": "markdown",
   "metadata": {},
   "source": [
    "### transform dataframe into a json objects to use with HighCharts\n",
    "* and store in in ../cache/doc-topic-matrix.json"
   ]
  },
  {
   "cell_type": "code",
   "execution_count": null,
   "metadata": {},
   "outputs": [],
   "source": [
    "items = []\n",
    "row_count = 0\n",
    "for i, row in df.T.iterrows():\n",
    "    cell_count = 0\n",
    "    for c in row:\n",
    "        cell_count += 1\n",
    "        record = [row_count, cell_count, int(c*1000)]\n",
    "        items.append(record)\n",
    "    row_count += 1\n",
    "data = {\n",
    "    \"items\": items,\n",
    "    \"docs\": list(df.index),\n",
    "    \"topics\": [f\"topic {x}\" for x in list(range(12))]\n",
    "}"
   ]
  },
  {
   "cell_type": "code",
   "execution_count": null,
   "metadata": {},
   "outputs": [],
   "source": [
    "corpus[0]._.meta['title']"
   ]
  },
  {
   "cell_type": "code",
   "execution_count": null,
   "metadata": {},
   "outputs": [],
   "source": [
    "topic_terms = []\n",
    "for topic_idx, top_terms in model.top_topic_terms(vectorizer.id_to_term, topics=list(range(12))):\n",
    "    topic_terms.append({f\"topic {topic_idx}\": top_terms})"
   ]
  },
  {
   "cell_type": "code",
   "execution_count": null,
   "metadata": {},
   "outputs": [],
   "source": [
    "data[\"topic_terms\"] = topic_terms"
   ]
  },
  {
   "cell_type": "code",
   "execution_count": null,
   "metadata": {},
   "outputs": [],
   "source": [
    "try:\n",
    "    os.makedirs('../cache')\n",
    "except OSError as e:\n",
    "    print('../chache alredy exists')"
   ]
  },
  {
   "cell_type": "code",
   "execution_count": null,
   "metadata": {},
   "outputs": [],
   "source": [
    "with open('../cache/doc-topic-matrix.json', 'w') as outfile:\n",
    "    json.dump(data, outfile)"
   ]
  },
  {
   "cell_type": "markdown",
   "metadata": {},
   "source": [
    "# create a TEI document to store\n",
    "* top n words of each topic\n",
    "* document/weights relatede to this topic"
   ]
  },
  {
   "cell_type": "code",
   "execution_count": null,
   "metadata": {},
   "outputs": [],
   "source": [
    "cols = list(df.T.columns)\n",
    "topics = {}\n",
    "for i, row in df.T.iterrows():\n",
    "    topics[f\"topic {i}\"] = {}\n",
    "    topics[f\"topic {i}\"][\"top_terms\"] = data[\"topic_terms\"][i][f\"topic {i}\"]\n",
    "    topics[f\"topic {i}\"][\"docs\"] = []\n",
    "    for col in cols:\n",
    "        match_func = lambda doc: doc._.meta.get(\"id\") == f\"{col}\"\n",
    "        cell = {\n",
    "            \"xml_id\": col,\n",
    "            \"value\": row[col],\n",
    "            \"titel\": [x._.meta['title'] for x in corpus.get(match_func, limit=1)][0].replace('\\n', ' ').strip()\n",
    "        }\n",
    "        topics[f\"topic {i}\"][\"docs\"].append(cell)"
   ]
  },
  {
   "cell_type": "code",
   "execution_count": null,
   "metadata": {
    "scrolled": true
   },
   "outputs": [],
   "source": [
    "for key, value in topics.items():\n",
    "    print(key, value)"
   ]
  },
  {
   "cell_type": "code",
   "execution_count": null,
   "metadata": {},
   "outputs": [],
   "source": [
    "tei_stump = TeiReader.tei_stump(\n",
    "    title=\"Topics\",\n",
    "    source_desc=\"erstellt mit textacy\"\n",
    ")"
   ]
  },
  {
   "cell_type": "code",
   "execution_count": null,
   "metadata": {},
   "outputs": [],
   "source": [
    "root = ET.fromstring(tei_stump)\n",
    "body = root.find('.//tei:body', namespaces={'tei':'http://www.tei-c.org/ns/1.0'})\n",
    "for key, value in topics.items(): \n",
    "    topic_div = ET.Element(\"{http://www.tei-c.org/ns/1.0}div\")\n",
    "    topic_div.attrib['n'] = f\"{key}\"\n",
    "    body.append(topic_div)\n",
    "    list_el = ET.Element(\"{http://www.tei-c.org/ns/1.0}list\")\n",
    "    topic_div.append(list_el)\n",
    "    table_el = ET.Element(\"{http://www.tei-c.org/ns/1.0}table\")\n",
    "    table_el.attrib['n'] = f\"{key}\"\n",
    "    topic_div.append(table_el)\n",
    "    for item in value['top_terms']:\n",
    "        item_el = ET.Element(\"{http://www.tei-c.org/ns/1.0}item\")\n",
    "        item_el.text = item\n",
    "        list_el.append(item_el)\n",
    "    for item in value['docs']:\n",
    "        table_row_el = ET.Element(\"{http://www.tei-c.org/ns/1.0}row\")\n",
    "        table_el.append(table_row_el)\n",
    "        for c_key, c_value in item.items():\n",
    "            cell_el = ET.Element(\"{http://www.tei-c.org/ns/1.0}cell\")\n",
    "            cell_el.text = f\"{c_value}\"\n",
    "            table_row_el.append(cell_el)    "
   ]
  },
  {
   "cell_type": "code",
   "execution_count": null,
   "metadata": {},
   "outputs": [],
   "source": [
    "file = os.path.join('../indices', 'topic-model.xml')"
   ]
  },
  {
   "cell_type": "code",
   "execution_count": null,
   "metadata": {},
   "outputs": [],
   "source": [
    "with open(file, 'wb') as f:\n",
    "    f.write(ET.tostring(root, pretty_print=True, encoding='utf-8'))"
   ]
  },
  {
   "cell_type": "code",
   "execution_count": null,
   "metadata": {},
   "outputs": [],
   "source": []
  }
 ],
 "metadata": {
  "kernelspec": {
   "display_name": "Python 3",
   "language": "python",
   "name": "python3"
  },
  "language_info": {
   "codemirror_mode": {
    "name": "ipython",
    "version": 3
   },
   "file_extension": ".py",
   "mimetype": "text/x-python",
   "name": "python",
   "nbconvert_exporter": "python",
   "pygments_lexer": "ipython3",
   "version": "3.6.9"
  }
 },
 "nbformat": 4,
 "nbformat_minor": 4
}
