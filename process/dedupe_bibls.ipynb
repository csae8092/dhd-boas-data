{
 "cells": [
  {
   "cell_type": "markdown",
   "metadata": {},
   "source": [
    "# deduplicate bibliographic references\n",
    "\n",
    "The DH-Community is not able to follow citation quides, therefore bibliographic references are quite messy. This script\n",
    "\n",
    "* extracts all `tei:listBibl//tei:bibl` elements and writes them to a `.csv` file in the current folder\n",
    "* this file is feed into `csvdedupe` command line interface which returns `output.csv` with deduplicated files"
   ]
  },
  {
   "cell_type": "code",
   "execution_count": 1,
   "metadata": {},
   "outputs": [],
   "source": [
    "import glob\n",
    "import os\n",
    "import pandas as pd\n",
    "from lxml import etree as ET\n",
    "\n",
    "from config import TEI_DIR, YEAR_DIR\n",
    "from teipy import TeiReader"
   ]
  },
  {
   "cell_type": "code",
   "execution_count": null,
   "metadata": {},
   "outputs": [],
   "source": [
    "files = glob.glob(\"{}/*.xml\".format(TEI_DIR))"
   ]
  },
  {
   "cell_type": "code",
   "execution_count": null,
   "metadata": {},
   "outputs": [],
   "source": [
    "def yield_items(files):\n",
    "    for x in files:\n",
    "        doc = TeiReader(x)\n",
    "        doc_id = x.replace(TEI_DIR, '')[1:]\n",
    "        titel = doc.extract_md()['title']\n",
    "        counter = 0\n",
    "        for bibl in doc.tree.xpath('.//tei:listBibl//tei:bibl', namespaces=doc.ns_tei):\n",
    "            bibl_text = \" \".join(\"\".join(bibl.itertext()).split())\n",
    "            item = {\n",
    "                \"title\": titel,\n",
    "                \"book\": bibl_text,\n",
    "                \"id\": f\"{doc_id}__{counter}\"\n",
    "            }\n",
    "            counter += 1\n",
    "            yield item"
   ]
  },
  {
   "cell_type": "code",
   "execution_count": null,
   "metadata": {},
   "outputs": [],
   "source": [
    "df = pd.DataFrame(yield_items(files))"
   ]
  },
  {
   "cell_type": "code",
   "execution_count": null,
   "metadata": {},
   "outputs": [],
   "source": [
    "df.to_csv('bibls.csv')"
   ]
  },
  {
   "cell_type": "markdown",
   "metadata": {},
   "source": [
    "## run csvdedupe cmd-tool\n",
    "\n",
    "* use the result (saved as output.csv) for any further processing\n",
    "* read output.csv into a `pandas.Dataframe`\n",
    "* group rows (i.e. bibl entries) by `Cluster ID` (created by dedupe)\n",
    "* for each group write first row as `tei:bibl` node into a `tei:listBibl`"
   ]
  },
  {
   "cell_type": "code",
   "execution_count": 2,
   "metadata": {},
   "outputs": [],
   "source": [
    "deduped = pd.read_csv('output.csv')"
   ]
  },
  {
   "cell_type": "code",
   "execution_count": 3,
   "metadata": {},
   "outputs": [],
   "source": [
    "tei_stump = TeiReader.tei_stump(\n",
    "    title=\"Literaturverzeichnis\",\n",
    "    source_desc=\"Generiert mit dedupe_bibls\"\n",
    ")"
   ]
  },
  {
   "cell_type": "code",
   "execution_count": 4,
   "metadata": {},
   "outputs": [],
   "source": [
    "root = ET.fromstring(tei_stump)\n",
    "bibl_root = root.find('.//tei:body', namespaces={'tei':'http://www.tei-c.org/ns/1.0'})\n",
    "list_bibl = ET.Element(\"{http://www.tei-c.org/ns/1.0}listBibl\")\n",
    "bibl_root.append(list_bibl)\n",
    "bibl_root.append(list_bibl)\n",
    "for i, gr in deduped.groupby('Cluster ID'):\n",
    "    my_df = pd.DataFrame(gr)\n",
    "    item = {\n",
    "        \"title\": str(my_df.iloc[0]['book']),\n",
    "        \"id\": f\"bibl__{my_df.iloc[0]['Cluster ID']}\",\n",
    "        \"occ\": len(my_df.index)\n",
    "    }\n",
    "    bibl = ET.Element(\"{http://www.tei-c.org/ns/1.0}bibl\")\n",
    "    bibl.attrib[\"{http://www.w3.org/XML/1998/namespace}id\"] = item['id']\n",
    "    bibl.text = item['title']\n",
    "    \n",
    "    list_bibl.append(bibl)\n",
    "    "
   ]
  },
  {
   "cell_type": "markdown",
   "metadata": {},
   "source": [
    "save XML as listbibl "
   ]
  },
  {
   "cell_type": "code",
   "execution_count": 6,
   "metadata": {},
   "outputs": [],
   "source": [
    "file = os.path.join(YEAR_DIR, 'indices', 'listbibl.xml')"
   ]
  },
  {
   "cell_type": "code",
   "execution_count": 7,
   "metadata": {},
   "outputs": [],
   "source": [
    "with open(file, 'wb') as f:\n",
    "    f.write(ET.tostring(root, pretty_print=True, encoding='utf-8'))"
   ]
  },
  {
   "cell_type": "code",
   "execution_count": null,
   "metadata": {},
   "outputs": [],
   "source": []
  }
 ],
 "metadata": {
  "kernelspec": {
   "display_name": "Python 3",
   "language": "python",
   "name": "python3"
  },
  "language_info": {
   "codemirror_mode": {
    "name": "ipython",
    "version": 3
   },
   "file_extension": ".py",
   "mimetype": "text/x-python",
   "name": "python",
   "nbconvert_exporter": "python",
   "pygments_lexer": "ipython3",
   "version": "3.7.1"
  }
 },
 "nbformat": 4,
 "nbformat_minor": 2
}
