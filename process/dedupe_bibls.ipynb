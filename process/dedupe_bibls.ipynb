{
 "cells": [
  {
   "cell_type": "code",
   "execution_count": null,
   "metadata": {},
   "outputs": [],
   "source": [
    "# ! pip install spacy\n",
    "# ! pip install spacy-langdetect\n",
    "# ! python -m spacy download de_core_news_sm"
   ]
  },
  {
   "cell_type": "markdown",
   "metadata": {},
   "source": [
    "# deduplicate bibliographic references\n",
    "\n",
    "The DH-Community is not able to follow citation quides, therefore bibliographic references are quite messy. This script\n",
    "\n",
    "* extracts all `tei:listBibl//tei:bibl` elements and writes them to a `.csv` file in the current folder\n",
    "* this file is feed into `csvdedupe` command line interface which returns `output.csv` with deduplicated files"
   ]
  },
  {
   "cell_type": "code",
   "execution_count": null,
   "metadata": {},
   "outputs": [],
   "source": [
    "import glob\n",
    "import os\n",
    "import pandas as pd\n",
    "import spacy\n",
    "\n",
    "from spacy_langdetect import LanguageDetector\n",
    "from lxml import etree as ET\n",
    "\n",
    "from teipy import TeiReader"
   ]
  },
  {
   "cell_type": "code",
   "execution_count": null,
   "metadata": {},
   "outputs": [],
   "source": [
    "try:\n",
    "    os.makedirs('../indices')\n",
    "except OSError as e:\n",
    "    print('../indices alredy exists')"
   ]
  },
  {
   "cell_type": "code",
   "execution_count": null,
   "metadata": {},
   "outputs": [],
   "source": [
    "files = glob.glob(\"../dhd_*/TEI/*.xml\")\n",
    "len(files)"
   ]
  },
  {
   "cell_type": "code",
   "execution_count": null,
   "metadata": {},
   "outputs": [],
   "source": [
    "def yield_items(files):\n",
    "    for x in files:\n",
    "        doc = TeiReader(x)\n",
    "        doc_id = x\n",
    "        titel = doc.extract_md()['title']\n",
    "        counter = 0\n",
    "        for bibl in doc.tree.xpath('.//tei:listBibl//tei:bibl', namespaces=doc.ns_tei):\n",
    "            bibl_text = \" \".join(\"\".join(bibl.itertext()).split())\n",
    "            item = {\n",
    "                \"title\": titel,\n",
    "                \"book\": bibl_text,\n",
    "                \"id\": f\"{doc_id}__{counter}\"\n",
    "            }\n",
    "            counter += 1\n",
    "            yield item"
   ]
  },
  {
   "cell_type": "code",
   "execution_count": null,
   "metadata": {},
   "outputs": [],
   "source": [
    "df = pd.DataFrame(yield_items(files))"
   ]
  },
  {
   "cell_type": "code",
   "execution_count": null,
   "metadata": {},
   "outputs": [],
   "source": [
    "df.to_csv('bibls.csv')"
   ]
  },
  {
   "cell_type": "markdown",
   "metadata": {},
   "source": [
    "## run csvdedupe cmd-tool\n",
    "\n",
    "```shell\n",
    "csvdedupe bibls.csv --field_names book --output_file output.csv\n",
    "```\n",
    "\n",
    "* use the result (saved as output.csv) for any further processing\n",
    "* read output.csv into a `pandas.Dataframe`\n",
    "* group rows (i.e. bibl entries) by `Cluster ID` (created by dedupe)\n",
    "* for each group write first row as `tei:bibl` node into a `tei:listBibl`"
   ]
  },
  {
   "cell_type": "code",
   "execution_count": null,
   "metadata": {},
   "outputs": [],
   "source": [
    "deduped = pd.read_csv('output.csv')"
   ]
  },
  {
   "cell_type": "code",
   "execution_count": null,
   "metadata": {},
   "outputs": [],
   "source": [
    "nlp = spacy.load('de_core_news_sm')\n",
    "nlp.add_pipe(LanguageDetector(), name='language_detector', last=True)"
   ]
  },
  {
   "cell_type": "code",
   "execution_count": null,
   "metadata": {},
   "outputs": [],
   "source": [
    "def get_lang(text):\n",
    "    try:\n",
    "        doc = nlp(text)\n",
    "        lang = (doc._.language)['language']\n",
    "    except Exception as e:\n",
    "        print(e)\n",
    "        lang = ''\n",
    "    return lang"
   ]
  },
  {
   "cell_type": "code",
   "execution_count": null,
   "metadata": {},
   "outputs": [],
   "source": [
    "deduped['date'] = deduped['book'].str.extract('([1|2]\\d\\d\\d)', expand=True)"
   ]
  },
  {
   "cell_type": "code",
   "execution_count": null,
   "metadata": {},
   "outputs": [],
   "source": [
    "deduped['lang'] = deduped.apply(lambda x: get_lang(x['book']), axis=1)"
   ]
  },
  {
   "cell_type": "code",
   "execution_count": null,
   "metadata": {},
   "outputs": [],
   "source": [
    "deduped.to_csv('bibls_deduped_enriched.csv')"
   ]
  },
  {
   "cell_type": "code",
   "execution_count": null,
   "metadata": {},
   "outputs": [],
   "source": [
    "tei_stump = TeiReader.tei_stump(\n",
    "    title=\"Literaturverzeichnis\",\n",
    "    source_desc=\"Generiert mit dedupe_bibls\"\n",
    ")"
   ]
  },
  {
   "cell_type": "code",
   "execution_count": null,
   "metadata": {},
   "outputs": [],
   "source": [
    "deduped = pd.read_csv('bibls_deduped_enriched.csv')"
   ]
  },
  {
   "cell_type": "code",
   "execution_count": null,
   "metadata": {},
   "outputs": [],
   "source": [
    "deduped.tail()"
   ]
  },
  {
   "cell_type": "code",
   "execution_count": null,
   "metadata": {},
   "outputs": [],
   "source": [
    "root = ET.fromstring(tei_stump)\n",
    "bibl_root = root.find('.//tei:body', namespaces={'tei':'http://www.tei-c.org/ns/1.0'})\n",
    "list_bibl = ET.Element(\"{http://www.tei-c.org/ns/1.0}listBibl\")\n",
    "bibl_root.append(list_bibl)\n",
    "for i, gr in deduped.groupby('Cluster ID'):\n",
    "    my_df = pd.DataFrame(gr)\n",
    "    item = {\n",
    "        \"title\": str(my_df.iloc[0]['book']),\n",
    "        \"id\": f\"bibl__{my_df.iloc[0]['Cluster ID']}\",\n",
    "        \"occ\": len(my_df.index)\n",
    "    }\n",
    "    bibl = ET.Element(\"{http://www.tei-c.org/ns/1.0}bibl\")\n",
    "    bibl.attrib[\"{http://www.w3.org/XML/1998/namespace}id\"] = item['id']\n",
    "    bibl.attrib[\"{http://www.w3.org/XML/1998/namespace}lang\"] = my_df.iloc[0]['lang']\n",
    "    bibl.text = item['title']\n",
    "    year_value = my_df.iloc[0]['date']\n",
    "    try:\n",
    "        year = int(year_value)\n",
    "    except ValueError:\n",
    "        year = False\n",
    "    if year:\n",
    "        year = ET.Element(\"{http://www.tei-c.org/ns/1.0}date\")\n",
    "        year.text = year_value\n",
    "        year.attrib[\"when\"] = f\"{year_value}-01-01\"\n",
    "        bibl.append(year)\n",
    "    list_bibl.append(bibl)\n",
    "    "
   ]
  },
  {
   "cell_type": "markdown",
   "metadata": {},
   "source": [
    "save XML as listbibl "
   ]
  },
  {
   "cell_type": "code",
   "execution_count": null,
   "metadata": {},
   "outputs": [],
   "source": [
    "file = os.path.join('../indices', 'listbibl.xml')"
   ]
  },
  {
   "cell_type": "code",
   "execution_count": null,
   "metadata": {},
   "outputs": [],
   "source": [
    "with open(file, 'wb') as f:\n",
    "    f.write(ET.tostring(root, pretty_print=True, encoding='utf-8'))"
   ]
  },
  {
   "cell_type": "markdown",
   "metadata": {},
   "source": [
    "## write @ref attributes into bibl items"
   ]
  },
  {
   "cell_type": "code",
   "execution_count": null,
   "metadata": {},
   "outputs": [],
   "source": [
    "for i, row in deduped.iterrows():\n",
    "    doc_id = row['id'].split('.xml__')\n",
    "    item_id = f\"#bibl__{row['Cluster ID']}\"\n",
    "    node_id = doc_id[1]\n",
    "    file = f\"{doc_id[0]}.xml\"\n",
    "    try:\n",
    "        doc = TeiReader(file)\n",
    "    except:\n",
    "        continue\n",
    "    bibl_node = doc.tree.xpath('.//tei:listBibl//tei:bibl', namespaces=doc.ns_tei)[int(node_id)]\n",
    "    bibl_node_children = []\n",
    "    for child in bibl_node:\n",
    "        bibl_node_children.append(child) \n",
    "        bibl_node.remove(child)\n",
    "    rs_node = ET.Element(\"{http://www.tei-c.org/ns/1.0}rs\")\n",
    "    rs_node.attrib[\"type\"] = 'bibl'\n",
    "    rs_node.attrib[\"ref\"] = item_id\n",
    "    for child in bibl_node_children:\n",
    "        rs_node.append(child)\n",
    "    bibl_node.append(rs_node)\n",
    "    bibl_node.attrib.pop(\"ref\", None)\n",
    "    doc.tree_to_file(file)"
   ]
  },
  {
   "cell_type": "code",
   "execution_count": null,
   "metadata": {},
   "outputs": [],
   "source": []
  }
 ],
 "metadata": {
  "kernelspec": {
   "display_name": "Python 3",
   "language": "python",
   "name": "python3"
  },
  "language_info": {
   "codemirror_mode": {
    "name": "ipython",
    "version": 3
   },
   "file_extension": ".py",
   "mimetype": "text/x-python",
   "name": "python",
   "nbconvert_exporter": "python",
   "pygments_lexer": "ipython3",
   "version": "3.7.5"
  }
 },
 "nbformat": 4,
 "nbformat_minor": 2
}
