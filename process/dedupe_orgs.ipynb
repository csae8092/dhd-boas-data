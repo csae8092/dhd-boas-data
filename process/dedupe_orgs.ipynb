{
 "cells": [
  {
   "cell_type": "markdown",
   "metadata": {},
   "source": [
    "# deduplicate ~~bibliographic~~ institution references\n",
    "\n",
    "The DH-Community is not able to follow citation quides, therefore bibliographic references are quite messy. This script\n",
    "\n",
    "* extracts all `.//tei:titleStmt//tei:affiliation` elements and writes them to a `.csv` file in the current folder\n",
    "* this file is feed into `csvdedupe` command line interface which returns `output.csv` with deduplicated files"
   ]
  },
  {
   "cell_type": "code",
   "execution_count": null,
   "metadata": {},
   "outputs": [],
   "source": [
    "import glob\n",
    "import os\n",
    "import pandas as pd\n",
    "\n",
    "from lxml import etree as ET\n",
    "\n",
    "from teipy import TeiReader"
   ]
  },
  {
   "cell_type": "code",
   "execution_count": null,
   "metadata": {},
   "outputs": [],
   "source": [
    "try:\n",
    "    os.makedirs('../indices')\n",
    "except OSError as e:\n",
    "    print('../indices alredy exists')"
   ]
  },
  {
   "cell_type": "code",
   "execution_count": null,
   "metadata": {},
   "outputs": [],
   "source": [
    "files = glob.glob(\"../dhd_*/TEI/*.xml\")\n",
    "len(files)"
   ]
  },
  {
   "cell_type": "markdown",
   "metadata": {},
   "source": [
    "## note\n",
    "\n",
    "Extraction and disambiguation of institutions is tricky because:\n",
    "* usage of different names for the same Institution\n",
    "* person -> affiliation is a 1:n relation\n",
    "* but there is no dedicated separator to indicate that one affiliation tag comprises several affiliations\n",
    "  * `;` is treaded as separator but not\n",
    "  * `|` or `\\` although sometimes \n",
    "    * used as separator \"forschungsverbund marbach weimar wolfenbüttel / herzog august bibliothek wolfenbüttel\"\n",
    "    * they are not only used as separators e.g. \"Akademie der Wissenschaften und der Literatur | Mainz\"  but also as part of the name, or to indicate a part of an institution like in \"Georg-August-Universität Göttingen, Deutschland - GCDH/Archäologisches Institut\"\n",
    "\n",
    "therefore no automatic splitting is done!\n",
    "disambiquiation is done in a very generous manner\n",
    "\n",
    "this means that `eberhard karls universität tübingen, deutschland` and `eberhard karls universität tübingen, deutschland; humboldt universität zu berlin` are treated as one institution"
   ]
  },
  {
   "cell_type": "code",
   "execution_count": null,
   "metadata": {},
   "outputs": [],
   "source": [
    "def yield_items(files):\n",
    "    for x in files:\n",
    "        doc = TeiReader(x)\n",
    "        doc_id = x\n",
    "        titel = doc.extract_md()['title']\n",
    "        counter = 0\n",
    "        for rs in doc.tree.xpath('.//tei:titleStmt//tei:affiliation', namespaces=doc.ns_tei):\n",
    "            author_node = rs.getparent()\n",
    "            author_id = author_node.xpath('./@ref', namespaces=doc.ns_tei)[0]\n",
    "            rs_text = \" \".join(\"\".join(rs.itertext()).split())\n",
    "            for y in rs_text.split(';'):\n",
    "                item = {\n",
    "                    \"title\": titel,\n",
    "                    \"author_id\": author_id,\n",
    "                    \"org\": y.strip(),\n",
    "                    \"id\": f\"{doc_id}__{counter}\"\n",
    "                }\n",
    "                counter += 1\n",
    "                yield item"
   ]
  },
  {
   "cell_type": "code",
   "execution_count": null,
   "metadata": {},
   "outputs": [],
   "source": [
    "df = pd.DataFrame(yield_items(files))"
   ]
  },
  {
   "cell_type": "code",
   "execution_count": null,
   "metadata": {},
   "outputs": [],
   "source": [
    "df.to_csv('orgs.csv')"
   ]
  },
  {
   "cell_type": "markdown",
   "metadata": {},
   "source": [
    "## run csvdedupe cmd-tool\n",
    "\n",
    "```shell\n",
    "csvdedupe orgs.csv --field_names org --output_file org_output.csv --skip_training true\n",
    "```\n",
    "\n",
    "* use the result (saved as output.csv) for any further processing\n",
    "* read output.csv into a `pandas.Dataframe`\n",
    "* group rows (i.e. bibl entries) by `Cluster ID` (created by dedupe)"
   ]
  },
  {
   "cell_type": "code",
   "execution_count": null,
   "metadata": {},
   "outputs": [],
   "source": [
    "deduped = pd.read_csv('org_output.csv')"
   ]
  },
  {
   "cell_type": "code",
   "execution_count": null,
   "metadata": {},
   "outputs": [],
   "source": [
    "from collections import defaultdict"
   ]
  },
  {
   "cell_type": "markdown",
   "metadata": {},
   "source": [
    "## extra work to circumvent a strange behaviour in dedupe\n",
    "\n",
    "* as reported in https://github.com/dedupeio/csvdedupe/issues/88 dedupe does not group exact string matches into the same clusster, so some extra work needs to be done"
   ]
  },
  {
   "cell_type": "code",
   "execution_count": null,
   "metadata": {},
   "outputs": [],
   "source": [
    "org_lookup = {}\n",
    "for gr in deduped.groupby('org'):\n",
    "    org_name = gr[0]\n",
    "    org_ref = f\"#org__{gr[1]['Cluster ID'].iloc[0]}\"\n",
    "    org_lookup[org_name] = org_ref"
   ]
  },
  {
   "cell_type": "code",
   "execution_count": null,
   "metadata": {},
   "outputs": [],
   "source": [
    "for x in files:\n",
    "    doc = TeiReader(x)\n",
    "    for rs in doc.tree.xpath('.//tei:titleStmt//tei:affiliation', namespaces=doc.ns_tei):\n",
    "        orgs = []\n",
    "        for y in rs.text.split(';'):\n",
    "            y = y.strip()\n",
    "            org_id = org_lookup[y]\n",
    "            orgs.append(org_id)\n",
    "        org_refs = \" \".join(orgs)\n",
    "        rs.attrib.pop(\"ref\", None)\n",
    "        rs.attrib['ref'] = org_refs\n",
    "    doc.tree_to_file(x)"
   ]
  }
 ],
 "metadata": {
  "kernelspec": {
   "display_name": "Python 3",
   "language": "python",
   "name": "python3"
  },
  "language_info": {
   "codemirror_mode": {
    "name": "ipython",
    "version": 3
   },
   "file_extension": ".py",
   "mimetype": "text/x-python",
   "name": "python",
   "nbconvert_exporter": "python",
   "pygments_lexer": "ipython3",
   "version": "3.7.5"
  }
 },
 "nbformat": 4,
 "nbformat_minor": 2
}
