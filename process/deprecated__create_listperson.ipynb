{
 "cells": [
  {
   "cell_type": "code",
   "execution_count": null,
   "metadata": {},
   "outputs": [],
   "source": [
    "import glob\n",
    "import os\n",
    "import itertools\n",
    "\n",
    "import pandas as pd\n",
    "from lxml import etree as ET\n",
    "\n",
    "from config import TEI_DIR, PATTERNS\n",
    "from teipy import TeiReader\n",
    "from partials import TEI_NSMAP, tei_gen_header\n",
    "from slugify import slugify"
   ]
  },
  {
   "cell_type": "code",
   "execution_count": null,
   "metadata": {},
   "outputs": [],
   "source": [
    "try:\n",
    "    os.mkdir('../indices')\n",
    "except FileExistsError:\n",
    "    pass"
   ]
  },
  {
   "cell_type": "code",
   "execution_count": null,
   "metadata": {},
   "outputs": [],
   "source": [
    "files = glob.glob(\"../dhd_*/TEI/*.xml\")"
   ]
  },
  {
   "cell_type": "code",
   "execution_count": null,
   "metadata": {},
   "outputs": [],
   "source": [
    "len(files)"
   ]
  },
  {
   "cell_type": "code",
   "execution_count": null,
   "metadata": {},
   "outputs": [],
   "source": [
    "all_docs = []\n",
    "for x in files:\n",
    "    doc = TeiReader(x)\n",
    "    all_docs.append(doc.extract_md())"
   ]
  },
  {
   "cell_type": "code",
   "execution_count": null,
   "metadata": {},
   "outputs": [],
   "source": [
    "all_docs"
   ]
  },
  {
   "cell_type": "code",
   "execution_count": null,
   "metadata": {},
   "outputs": [],
   "source": [
    "df = pd.DataFrame(all_docs)"
   ]
  },
  {
   "cell_type": "code",
   "execution_count": null,
   "metadata": {},
   "outputs": [],
   "source": [
    "authors = pd.DataFrame(list(itertools.chain.from_iterable(list(df['authors'].values)))).sort_values(by='surname')"
   ]
  },
  {
   "cell_type": "code",
   "execution_count": null,
   "metadata": {},
   "outputs": [],
   "source": [
    "authors['email_lower'] = authors['email'].str.lower()"
   ]
  },
  {
   "cell_type": "code",
   "execution_count": null,
   "metadata": {},
   "outputs": [],
   "source": [
    "no_dub = authors.drop_duplicates(subset=['email_lower'])"
   ]
  },
  {
   "cell_type": "code",
   "execution_count": null,
   "metadata": {},
   "outputs": [],
   "source": [
    "# no_dub"
   ]
  },
  {
   "cell_type": "code",
   "execution_count": null,
   "metadata": {},
   "outputs": [],
   "source": [
    "header = ET.fromstring(tei_gen_header.format('Personenregister', f\"DHd Book of Abstracts {', '.join(years)}\"))    "
   ]
  },
  {
   "cell_type": "code",
   "execution_count": null,
   "metadata": {},
   "outputs": [],
   "source": [
    "body = header.xpath('.//tei:body', namespaces=TEI_NSMAP)[0]\n",
    "listperson = ET.Element(\"listPerson\")\n",
    "body.append(listperson)\n",
    "for i, row in no_dub.iterrows():\n",
    "    person = ET.Element(\"{http://www.tei-c.org/ns/1.0}person\")\n",
    "    person.attrib['{http://www.w3.org/XML/1998/namespace}id'] = \"person__{}\".format(\n",
    "            slugify(row['email'])\n",
    "        )\n",
    "    persName = ET.Element(\"persName\")\n",
    "    surname = ET.Element(\"surname\")\n",
    "    surname.text = row['surname']\n",
    "    persName.append(surname)\n",
    "    forename = ET.Element(\"forename\")\n",
    "    forename.text = row['forename']\n",
    "    persName.append(forename)\n",
    "    affil = ET.Element(\"affiliation\")\n",
    "    affil.text = row['affiliation'] \n",
    "    person.append(persName)\n",
    "    person.append(affil)\n",
    "    listperson.append(person)"
   ]
  },
  {
   "cell_type": "code",
   "execution_count": null,
   "metadata": {},
   "outputs": [],
   "source": [
    "file = \"../indices/listperson.xml\"\n",
    "with open(file, 'wb') as f:\n",
    "    f.write(ET.tostring(header, pretty_print=True, encoding='UTF-8'))"
   ]
  },
  {
   "cell_type": "code",
   "execution_count": null,
   "metadata": {},
   "outputs": [],
   "source": []
  },
  {
   "cell_type": "code",
   "execution_count": null,
   "metadata": {},
   "outputs": [],
   "source": []
  }
 ],
 "metadata": {
  "kernelspec": {
   "display_name": "Python 3",
   "language": "python",
   "name": "python3"
  },
  "language_info": {
   "codemirror_mode": {
    "name": "ipython",
    "version": 3
   },
   "file_extension": ".py",
   "mimetype": "text/x-python",
   "name": "python",
   "nbconvert_exporter": "python",
   "pygments_lexer": "ipython3",
   "version": "3.7.5"
  }
 },
 "nbformat": 4,
 "nbformat_minor": 2
}
