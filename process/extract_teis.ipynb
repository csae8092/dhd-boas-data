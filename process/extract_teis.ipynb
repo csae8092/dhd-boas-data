{
 "cells": [
  {
   "cell_type": "code",
   "execution_count": null,
   "metadata": {},
   "outputs": [],
   "source": [
    "import os\n",
    "import glob\n",
    "import zipfile\n",
    "import shutil\n",
    "\n",
    "from config import *"
   ]
  },
  {
   "cell_type": "code",
   "execution_count": null,
   "metadata": {},
   "outputs": [],
   "source": [
    "# # define some directories and file patterns and create them if they don't yet exist\n",
    "# CURRENT_YEAR = \"dhd_2019\"\n",
    "# PICS = 'Pictures'\n",
    "# CURRENT_DIR = os.getcwd()\n",
    "# BASE_DIR = os.path.split(os.getcwd())[0]\n",
    "# YEAR_DIR = os.path.join(BASE_DIR, CURRENT_YEAR)\n",
    "# DHC_YEAR = os.path.join(BASE_DIR, CURRENT_YEAR, 'DHC')\n",
    "# TEI_DIR = os.path.join(BASE_DIR, CURRENT_YEAR, 'TEI')\n",
    "# IMG_DIR = os.path.join(BASE_DIR, CURRENT_YEAR, 'IMG')\n",
    "# TMP_DIR = os.path.join(BASE_DIR, CURRENT_YEAR, 'DHC', 'tmp')\n",
    "# XML_FILES = \"{}/*.xml\".format(TMP_DIR)\n",
    "# DHC_FILES = \"{}/*.dhc\".format(DHC_YEAR)\n",
    "try:\n",
    "    os.mkdir(os.path.join(DHC_YEAR, 'tmp'))\n",
    "except FileExistsError:\n",
    "    pass\n",
    "try:\n",
    "    os.mkdir(TEI_DIR)\n",
    "except FileExistsError:\n",
    "    pass\n",
    "try:\n",
    "    os.mkdir(IMG_DIR)\n",
    "except FileExistsError:\n",
    "    pass"
   ]
  },
  {
   "cell_type": "code",
   "execution_count": null,
   "metadata": {},
   "outputs": [],
   "source": [
    "# fetch all dhc files\n",
    "files = glob.glob(DHC_FILES)\n",
    "len(files)"
   ]
  },
  {
   "cell_type": "code",
   "execution_count": null,
   "metadata": {},
   "outputs": [],
   "source": [
    "# copy the files into a tmp folder and try to extract them\n",
    "for x in files:\n",
    "    head, tail = os.path.split(x)\n",
    "    zip_name = tail.replace('.dhc', '.zip')\n",
    "    new = os.path.join(TMP_DIR, zip_name)\n",
    "    shutil.copy2(x, new)\n",
    "    try:\n",
    "        with zipfile.ZipFile(new,\"r\") as zip_ref:\n",
    "            zip_ref.extractall(TMP_DIR)\n",
    "    except zipfile.BadZipFile:\n",
    "        print(\"Bad Zip File: {}\".format(new))"
   ]
  },
  {
   "cell_type": "code",
   "execution_count": null,
   "metadata": {},
   "outputs": [],
   "source": [
    "files = glob.glob(XML_FILES)\n",
    "len(files)"
   ]
  },
  {
   "cell_type": "code",
   "execution_count": null,
   "metadata": {},
   "outputs": [],
   "source": [
    "#extract .xml files (kick out unzipped .docx files and copy them to the TEI folder)\n",
    "copied = [shutil.copy2(x, TEI_DIR) for x in files if not x.endswith('[Content_Types].xml')]"
   ]
  },
  {
   "cell_type": "code",
   "execution_count": null,
   "metadata": {},
   "outputs": [],
   "source": [
    "# copy the content of the Pictures folder\n",
    "for x in os.listdir(os.path.join(TMP_DIR, 'Pictures')):\n",
    "    file = os.path.join(os.path.join(TMP_DIR, PICS), x)\n",
    "    shutil.copy2(file, IMG_DIR)"
   ]
  },
  {
   "cell_type": "code",
   "execution_count": null,
   "metadata": {},
   "outputs": [],
   "source": [
    "# clean up, i.e. delete tmp dir/files\n",
    "shutil.rmtree(TMP_DIR)"
   ]
  },
  {
   "cell_type": "code",
   "execution_count": null,
   "metadata": {},
   "outputs": [],
   "source": []
  },
  {
   "cell_type": "code",
   "execution_count": null,
   "metadata": {},
   "outputs": [],
   "source": []
  }
 ],
 "metadata": {
  "kernelspec": {
   "display_name": "Python 3",
   "language": "python",
   "name": "python3"
  },
  "language_info": {
   "codemirror_mode": {
    "name": "ipython",
    "version": 3
   },
   "file_extension": ".py",
   "mimetype": "text/x-python",
   "name": "python",
   "nbconvert_exporter": "python",
   "pygments_lexer": "ipython3",
   "version": "3.7.5"
  }
 },
 "nbformat": 4,
 "nbformat_minor": 2
}
