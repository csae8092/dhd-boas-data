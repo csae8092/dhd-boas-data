{
 "cells": [
  {
   "cell_type": "code",
   "execution_count": null,
   "metadata": {},
   "outputs": [],
   "source": [
    "from lxml import etree as ET\n",
    "from partials import TEI_NSMAP\n",
    "from teipy import TeiReader"
   ]
  },
  {
   "cell_type": "code",
   "execution_count": null,
   "metadata": {},
   "outputs": [],
   "source": [
    "gt_file = \"../dhd_2019/indices/listperson.xml\"\n",
    "gt_doc = TeiReader(gt_file)"
   ]
  },
  {
   "cell_type": "code",
   "execution_count": null,
   "metadata": {},
   "outputs": [],
   "source": [
    "file = \"../indices/listperson.xml\"\n",
    "doc = TeiReader(file)\n",
    "new = \"../indices/listperson_enriched.xml\""
   ]
  },
  {
   "cell_type": "code",
   "execution_count": null,
   "metadata": {},
   "outputs": [],
   "source": [
    "for x in doc.tree.xpath('.//tei:person', namespaces=doc.ns_tei):\n",
    "    xml_id = x.attrib['{http://www.w3.org/XML/1998/namespace}id']\n",
    "    xpath_expr = f\".//tei:person[./@xml:id='{xml_id}']\"\n",
    "    match = gt_doc.tree.xpath(xpath_expr, namespaces=doc.ns_tei)\n",
    "    if match:\n",
    "        # delete the match and add the enriched one\n",
    "        parent = x.getparent()\n",
    "        x.getparent().remove(x)\n",
    "        parent.append(match[0])\n",
    "doc.tree_to_file(file)"
   ]
  },
  {
   "cell_type": "code",
   "execution_count": null,
   "metadata": {},
   "outputs": [],
   "source": [
    "gt_file = \"../dhd_2019/indices/listorg.xml\"\n",
    "gt_doc = TeiReader(gt_file)"
   ]
  },
  {
   "cell_type": "code",
   "execution_count": null,
   "metadata": {},
   "outputs": [],
   "source": [
    "file = \"../indices/listorg.xml\"\n",
    "doc = TeiReader(file)\n",
    "new = \"../indices/listorg_enriched.xml\""
   ]
  },
  {
   "cell_type": "code",
   "execution_count": null,
   "metadata": {},
   "outputs": [],
   "source": [
    "for x in doc.tree.xpath('.//tei:org', namespaces=doc.ns_tei):\n",
    "    org_name = x.xpath('normalize-space(./tei:orgName/text())', namespaces=doc.ns_tei)\n",
    "#     print(org_name)\n",
    "    xpath_expr = f\".//tei:org[./tei:orgName/text()='{org_name}']\"\n",
    "#     print(xpath_expr)\n",
    "    try:\n",
    "        match = gt_doc.tree.xpath(xpath_expr, namespaces=doc.ns_tei)\n",
    "    except:\n",
    "        pass\n",
    "    print(match)\n",
    "\n"
   ]
  },
  {
   "cell_type": "code",
   "execution_count": null,
   "metadata": {},
   "outputs": [],
   "source": []
  }
 ],
 "metadata": {
  "kernelspec": {
   "display_name": "Django Shell-Plus",
   "language": "python",
   "name": "django_extensions"
  },
  "language_info": {
   "codemirror_mode": {
    "name": "ipython",
    "version": 3
   },
   "file_extension": ".py",
   "mimetype": "text/x-python",
   "name": "python",
   "nbconvert_exporter": "python",
   "pygments_lexer": "ipython3",
   "version": "3.7.5"
  }
 },
 "nbformat": 4,
 "nbformat_minor": 4
}
