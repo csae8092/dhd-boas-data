{
 "cells": [
  {
   "cell_type": "code",
   "execution_count": null,
   "metadata": {},
   "outputs": [],
   "source": [
    "import glob\n",
    "import itertools\n",
    "\n",
    "import pandas as pd\n",
    "from lxml import etree as ET\n",
    "\n",
    "from config import TEI_DIR, PATTERNS\n",
    "from teipy import TeiReader\n",
    "from partials import TEI_NSMAP, tei_gen_header\n",
    "from slugify import slugify"
   ]
  },
  {
   "cell_type": "code",
   "execution_count": null,
   "metadata": {},
   "outputs": [],
   "source": [
    "files = glob.glob(\"{}/*.xml\".format(TEI_DIR))"
   ]
  },
  {
   "cell_type": "code",
   "execution_count": null,
   "metadata": {},
   "outputs": [],
   "source": [
    "TEI_DIR"
   ]
  },
  {
   "cell_type": "code",
   "execution_count": null,
   "metadata": {},
   "outputs": [],
   "source": [
    "all_docs = []\n",
    "for x in files:\n",
    "    doc = TeiReader(x)\n",
    "    all_docs.append(doc.extract_md())"
   ]
  },
  {
   "cell_type": "code",
   "execution_count": null,
   "metadata": {},
   "outputs": [],
   "source": [
    "df = pd.DataFrame(all_docs)"
   ]
  },
  {
   "cell_type": "code",
   "execution_count": null,
   "metadata": {},
   "outputs": [],
   "source": [
    "authors = pd.DataFrame(list(itertools.chain.from_iterable(list(df['authors'].values)))).drop_duplicates().sort_values(by='surname')"
   ]
  },
  {
   "cell_type": "code",
   "execution_count": null,
   "metadata": {},
   "outputs": [],
   "source": [
    "header = ET.fromstring(tei_gen_header.format('Personenregister', 'DHD2018'))    "
   ]
  },
  {
   "cell_type": "code",
   "execution_count": null,
   "metadata": {},
   "outputs": [],
   "source": [
    "body = header.xpath('.//tei:body', namespaces=TEI_NSMAP)[0]\n",
    "listperson = ET.Element(\"listPerson\")\n",
    "body.append(listperson)\n",
    "for i, row in authors.iterrows():\n",
    "    person = ET.Element(\"{http://www.tei-c.org/ns/1.0}person\")\n",
    "    person.attrib['{http://www.w3.org/XML/1998/namespace}id'] = \"person__{}\".format(\n",
    "            slugify(row['email'])\n",
    "        )\n",
    "    persName = ET.Element(\"persName\")\n",
    "    surname = ET.Element(\"surname\")\n",
    "    surname.text = row['surname']\n",
    "    persName.append(surname)\n",
    "    forename = ET.Element(\"forename\")\n",
    "    forename.text = row['forename']\n",
    "    persName.append(forename)\n",
    "    affil = ET.Element(\"affiliation\")\n",
    "    affil.text = row['affiliation'] \n",
    "    person.append(persName)\n",
    "    person.append(affil)\n",
    "    listperson.append(person)"
   ]
  },
  {
   "cell_type": "code",
   "execution_count": null,
   "metadata": {},
   "outputs": [],
   "source": [
    "file = \"tmp.xml\"\n",
    "with open(file, 'wb') as f:\n",
    "    f.write(ET.tostring(header, pretty_print=True, encoding='UTF-8'))"
   ]
  },
  {
   "cell_type": "code",
   "execution_count": null,
   "metadata": {},
   "outputs": [],
   "source": [
    "authors['affiliation'].drop_duplicates().sort_values().to_csv('affilitions.csv',encoding='UTF-8')"
   ]
  },
  {
   "cell_type": "code",
   "execution_count": null,
   "metadata": {},
   "outputs": [],
   "source": [
    "header = ET.fromstring(tei_gen_header.format('Organisationsregsiter', 'DHD2018'))    \n",
    "body = header.xpath('.//tei:body', namespaces=TEI_NSMAP)[0]\n",
    "listorg = ET.Element(\"listOrg\")\n",
    "body.append(listorg)\n",
    "counter = 1\n",
    "for x in authors['affiliation'].drop_duplicates().sort_values():\n",
    "    org = ET.Element(\"{http://www.tei-c.org/ns/1.0}org\")\n",
    "    org.attrib['{http://www.w3.org/XML/1998/namespace}id'] = \"org__{}\".format(counter)\n",
    "    orgName = ET.Element(\"orgName\")\n",
    "    orgName.text = x\n",
    "    org.append(orgName)\n",
    "    listorg.append(org)\n",
    "    counter += 1"
   ]
  },
  {
   "cell_type": "code",
   "execution_count": null,
   "metadata": {},
   "outputs": [],
   "source": [
    "file = \"tmp_org.xml\"\n",
    "with open(file, 'wb') as f:\n",
    "    f.write(ET.tostring(header, pretty_print=True, encoding='UTF-8'))"
   ]
  },
  {
   "cell_type": "code",
   "execution_count": null,
   "metadata": {},
   "outputs": [],
   "source": []
  },
  {
   "cell_type": "code",
   "execution_count": null,
   "metadata": {},
   "outputs": [],
   "source": []
  }
 ],
 "metadata": {
  "kernelspec": {
   "display_name": "Python 3",
   "language": "python",
   "name": "python3"
  },
  "language_info": {
   "codemirror_mode": {
    "name": "ipython",
    "version": 3
   },
   "file_extension": ".py",
   "mimetype": "text/x-python",
   "name": "python",
   "nbconvert_exporter": "python",
   "pygments_lexer": "ipython3",
   "version": "3.7.5"
  }
 },
 "nbformat": 4,
 "nbformat_minor": 2
}
